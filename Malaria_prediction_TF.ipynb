{
 "cells": [
  {
   "cell_type": "code",
   "execution_count": 5,
   "metadata": {},
   "outputs": [],
   "source": [
    "# import the libraries as shown below\n",
    "from tensorflow.keras.layers import Input, Lambda, Dense, Flatten,Conv2D\n",
    "from tensorflow.keras.models import Model\n",
    "from tensorflow.keras.applications.vgg19 import VGG19\n",
    "from tensorflow.keras.applications.resnet50 import preprocess_input\n",
    "from tensorflow.keras.preprocessing import image\n",
    "from tensorflow.keras.preprocessing.image import ImageDataGenerator,load_img\n",
    "from tensorflow.keras.models import Sequential\n",
    "import numpy as np\n",
    "from glob import glob\n",
    "import matplotlib.pyplot as plt"
   ]
  },
  {
   "cell_type": "code",
   "execution_count": 6,
   "metadata": {},
   "outputs": [],
   "source": [
    "# re-size all the images to this\n",
    "IMAGE_SIZE = [224, 224]\n",
    "\n",
    "train= 'C:/Users/rakes/Desktop/Malaria_prediction/Train/'\n",
    "test = 'C:/Users/rakes/Desktop/Malaria_prediction/Test/'"
   ]
  },
  {
   "cell_type": "code",
   "execution_count": 7,
   "metadata": {},
   "outputs": [],
   "source": [
    "\n",
    "# Import the Vgg 16 library as shown below and add preprocessing layer to the front of VGG\n",
    "# Here we will be using imagenet weights\n",
    "\n",
    "mobilnet = VGG19(input_shape=IMAGE_SIZE + [3], weights='imagenet', include_top=False)"
   ]
  },
  {
   "cell_type": "code",
   "execution_count": 10,
   "metadata": {},
   "outputs": [],
   "source": [
    "for layer in mobilnet.layers:\n",
    "    layer.trainable = False"
   ]
  },
  {
   "cell_type": "code",
   "execution_count": 11,
   "metadata": {},
   "outputs": [
    {
     "data": {
      "text/plain": [
       "['C:/Users/rakes/Desktop/Malaria_prediction/Train\\\\Parasite',\n",
       " 'C:/Users/rakes/Desktop/Malaria_prediction/Train\\\\Uninfected']"
      ]
     },
     "execution_count": 11,
     "metadata": {},
     "output_type": "execute_result"
    }
   ],
   "source": [
    "# useful for getting number of output classes\n",
    "folders = glob('C:/Users/rakes/Desktop/Malaria_prediction/Train/*')\n",
    "folders"
   ]
  },
  {
   "cell_type": "code",
   "execution_count": 12,
   "metadata": {},
   "outputs": [],
   "source": [
    "x = Flatten()(mobilnet.output)\n",
    "\n",
    "prediction = Dense(len(folders), activation= 'softmax')(x)\n",
    "\n",
    "model = Model(inputs = mobilnet.input, outputs = prediction)"
   ]
  },
  {
   "cell_type": "code",
   "execution_count": 13,
   "metadata": {},
   "outputs": [
    {
     "name": "stdout",
     "output_type": "stream",
     "text": [
      "Model: \"model\"\n",
      "_________________________________________________________________\n",
      "Layer (type)                 Output Shape              Param #   \n",
      "=================================================================\n",
      "input_2 (InputLayer)         [(None, 224, 224, 3)]     0         \n",
      "_________________________________________________________________\n",
      "block1_conv1 (Conv2D)        (None, 224, 224, 64)      1792      \n",
      "_________________________________________________________________\n",
      "block1_conv2 (Conv2D)        (None, 224, 224, 64)      36928     \n",
      "_________________________________________________________________\n",
      "block1_pool (MaxPooling2D)   (None, 112, 112, 64)      0         \n",
      "_________________________________________________________________\n",
      "block2_conv1 (Conv2D)        (None, 112, 112, 128)     73856     \n",
      "_________________________________________________________________\n",
      "block2_conv2 (Conv2D)        (None, 112, 112, 128)     147584    \n",
      "_________________________________________________________________\n",
      "block2_pool (MaxPooling2D)   (None, 56, 56, 128)       0         \n",
      "_________________________________________________________________\n",
      "block3_conv1 (Conv2D)        (None, 56, 56, 256)       295168    \n",
      "_________________________________________________________________\n",
      "block3_conv2 (Conv2D)        (None, 56, 56, 256)       590080    \n",
      "_________________________________________________________________\n",
      "block3_conv3 (Conv2D)        (None, 56, 56, 256)       590080    \n",
      "_________________________________________________________________\n",
      "block3_conv4 (Conv2D)        (None, 56, 56, 256)       590080    \n",
      "_________________________________________________________________\n",
      "block3_pool (MaxPooling2D)   (None, 28, 28, 256)       0         \n",
      "_________________________________________________________________\n",
      "block4_conv1 (Conv2D)        (None, 28, 28, 512)       1180160   \n",
      "_________________________________________________________________\n",
      "block4_conv2 (Conv2D)        (None, 28, 28, 512)       2359808   \n",
      "_________________________________________________________________\n",
      "block4_conv3 (Conv2D)        (None, 28, 28, 512)       2359808   \n",
      "_________________________________________________________________\n",
      "block4_conv4 (Conv2D)        (None, 28, 28, 512)       2359808   \n",
      "_________________________________________________________________\n",
      "block4_pool (MaxPooling2D)   (None, 14, 14, 512)       0         \n",
      "_________________________________________________________________\n",
      "block5_conv1 (Conv2D)        (None, 14, 14, 512)       2359808   \n",
      "_________________________________________________________________\n",
      "block5_conv2 (Conv2D)        (None, 14, 14, 512)       2359808   \n",
      "_________________________________________________________________\n",
      "block5_conv3 (Conv2D)        (None, 14, 14, 512)       2359808   \n",
      "_________________________________________________________________\n",
      "block5_conv4 (Conv2D)        (None, 14, 14, 512)       2359808   \n",
      "_________________________________________________________________\n",
      "block5_pool (MaxPooling2D)   (None, 7, 7, 512)         0         \n",
      "_________________________________________________________________\n",
      "flatten (Flatten)            (None, 25088)             0         \n",
      "_________________________________________________________________\n",
      "dense (Dense)                (None, 2)                 50178     \n",
      "=================================================================\n",
      "Total params: 20,074,562\n",
      "Trainable params: 50,178\n",
      "Non-trainable params: 20,024,384\n",
      "_________________________________________________________________\n"
     ]
    }
   ],
   "source": [
    "# view the structure of the model\n",
    "model.summary()"
   ]
  },
  {
   "cell_type": "code",
   "execution_count": 14,
   "metadata": {},
   "outputs": [],
   "source": [
    "\n",
    "# tell the model what cost and optimization method to use\n",
    "model.compile(\n",
    "  loss='categorical_crossentropy',\n",
    "  optimizer='adam',\n",
    "  metrics=['accuracy']\n",
    ")"
   ]
  },
  {
   "cell_type": "code",
   "execution_count": 15,
   "metadata": {},
   "outputs": [],
   "source": [
    "# Use the Image Data Generator to import the images from the dataset\n",
    "from tensorflow.keras.preprocessing.image import ImageDataGenerator\n",
    "\n",
    "train_datagen = ImageDataGenerator(rescale = 1./255,\n",
    "                                   shear_range = 0.2,\n",
    "                                   zoom_range = 0.2,\n",
    "                                   horizontal_flip = True)\n",
    "\n",
    "test_datagen = ImageDataGenerator(rescale = 1./255)"
   ]
  },
  {
   "cell_type": "code",
   "execution_count": 16,
   "metadata": {},
   "outputs": [
    {
     "name": "stdout",
     "output_type": "stream",
     "text": [
      "Found 416 images belonging to 2 classes.\n"
     ]
    }
   ],
   "source": [
    "\n",
    "# Make sure you provide the same target size as initialied for the image size\n",
    "training_set = train_datagen.flow_from_directory('C:/Users/rakes/Desktop/Malaria_prediction/Train/',\n",
    "                                                 target_size = (224, 224),\n",
    "                                                 batch_size = 32,\n",
    "                                                 class_mode = 'categorical')"
   ]
  },
  {
   "cell_type": "code",
   "execution_count": 17,
   "metadata": {},
   "outputs": [
    {
     "name": "stdout",
     "output_type": "stream",
     "text": [
      "Found 134 images belonging to 2 classes.\n"
     ]
    }
   ],
   "source": [
    "test_set = test_datagen.flow_from_directory('C:/Users/rakes/Desktop/Malaria_prediction/Test/',\n",
    "                                            target_size = (224, 224),\n",
    "                                            batch_size = 32,\n",
    "                                            class_mode = 'categorical')"
   ]
  },
  {
   "cell_type": "code",
   "execution_count": 18,
   "metadata": {},
   "outputs": [
    {
     "name": "stdout",
     "output_type": "stream",
     "text": [
      "Epoch 1/50\n",
      "12/13 [==========================>...] - ETA: 3s - loss: 1.4383 - acc: 0.5469Epoch 1/50\n",
      "13/13 [==============================] - 62s 5s/step - loss: 1.3990 - acc: 0.5481 - val_loss: 0.5856 - val_acc: 0.7164\n",
      "Epoch 2/50\n",
      "12/13 [==========================>...] - ETA: 3s - loss: 0.6347 - acc: 0.6562Epoch 1/50\n",
      "13/13 [==============================] - 64s 5s/step - loss: 0.6355 - acc: 0.6562 - val_loss: 1.0907 - val_acc: 0.4552\n",
      "Epoch 3/50\n",
      "12/13 [==========================>...] - ETA: 3s - loss: 0.5563 - acc: 0.7057Epoch 1/50\n",
      "13/13 [==============================] - 65s 5s/step - loss: 0.5399 - acc: 0.7139 - val_loss: 0.4581 - val_acc: 0.7537\n",
      "Epoch 4/50\n",
      "12/13 [==========================>...] - ETA: 3s - loss: 0.4249 - acc: 0.7839Epoch 1/50\n",
      "13/13 [==============================] - 65s 5s/step - loss: 0.4140 - acc: 0.7909 - val_loss: 0.7179 - val_acc: 0.6567\n",
      "Epoch 5/50\n",
      "12/13 [==========================>...] - ETA: 3s - loss: 0.3104 - acc: 0.8802Epoch 1/50\n",
      "13/13 [==============================] - 66s 5s/step - loss: 0.3123 - acc: 0.8798 - val_loss: 0.4068 - val_acc: 0.8060\n",
      "Epoch 6/50\n",
      "12/13 [==========================>...] - ETA: 3s - loss: 0.2949 - acc: 0.8776Epoch 1/50\n",
      "13/13 [==============================] - 66s 5s/step - loss: 0.3059 - acc: 0.8726 - val_loss: 0.3633 - val_acc: 0.8433\n",
      "Epoch 7/50\n",
      "12/13 [==========================>...] - ETA: 3s - loss: 0.2753 - acc: 0.8932Epoch 1/50\n",
      "13/13 [==============================] - 65s 5s/step - loss: 0.2847 - acc: 0.8870 - val_loss: 0.5444 - val_acc: 0.6791\n",
      "Epoch 8/50\n",
      "12/13 [==========================>...] - ETA: 3s - loss: 0.2803 - acc: 0.8984Epoch 1/50\n",
      "13/13 [==============================] - 65s 5s/step - loss: 0.2848 - acc: 0.8942 - val_loss: 0.5180 - val_acc: 0.7463\n",
      "Epoch 9/50\n",
      "12/13 [==========================>...] - ETA: 3s - loss: 0.2667 - acc: 0.8828Epoch 1/50\n",
      "13/13 [==============================] - 65s 5s/step - loss: 0.2598 - acc: 0.8894 - val_loss: 0.3275 - val_acc: 0.8134\n",
      "Epoch 10/50\n",
      "12/13 [==========================>...] - ETA: 3s - loss: 0.2383 - acc: 0.9115Epoch 1/50\n",
      "13/13 [==============================] - 62s 5s/step - loss: 0.2304 - acc: 0.9135 - val_loss: 0.3506 - val_acc: 0.8657\n",
      "Epoch 11/50\n",
      "12/13 [==========================>...] - ETA: 3s - loss: 0.1971 - acc: 0.9427Epoch 1/50\n",
      "13/13 [==============================] - 65s 5s/step - loss: 0.2049 - acc: 0.9375 - val_loss: 0.3240 - val_acc: 0.8657\n",
      "Epoch 12/50\n",
      "12/13 [==========================>...] - ETA: 3s - loss: 0.2733 - acc: 0.8750Epoch 1/50\n",
      "13/13 [==============================] - 66s 5s/step - loss: 0.2722 - acc: 0.8726 - val_loss: 0.7784 - val_acc: 0.6493\n",
      "Epoch 13/50\n",
      "12/13 [==========================>...] - ETA: 4s - loss: 0.2386 - acc: 0.9089Epoch 1/50\n",
      "13/13 [==============================] - 72s 6s/step - loss: 0.2395 - acc: 0.9062 - val_loss: 0.2718 - val_acc: 0.8881\n",
      "Epoch 14/50\n",
      "12/13 [==========================>...] - ETA: 3s - loss: 0.1831 - acc: 0.9375Epoch 1/50\n",
      "13/13 [==============================] - 70s 5s/step - loss: 0.1927 - acc: 0.9303 - val_loss: 0.2918 - val_acc: 0.9030\n",
      "Epoch 15/50\n",
      "12/13 [==========================>...] - ETA: 4s - loss: 0.1838 - acc: 0.9453Epoch 1/50\n",
      "13/13 [==============================] - 71s 5s/step - loss: 0.1861 - acc: 0.9447 - val_loss: 0.3189 - val_acc: 0.8731\n",
      "Epoch 16/50\n",
      "12/13 [==========================>...] - ETA: 3s - loss: 0.1733 - acc: 0.9401Epoch 1/50\n",
      "13/13 [==============================] - 65s 5s/step - loss: 0.1740 - acc: 0.9351 - val_loss: 0.2672 - val_acc: 0.9030\n",
      "Epoch 17/50\n",
      "12/13 [==========================>...] - ETA: 3s - loss: 0.1915 - acc: 0.9375Epoch 1/50\n",
      "13/13 [==============================] - 67s 5s/step - loss: 0.1888 - acc: 0.9375 - val_loss: 0.2483 - val_acc: 0.9030\n",
      "Epoch 18/50\n",
      "12/13 [==========================>...] - ETA: 3s - loss: 0.1771 - acc: 0.9349Epoch 1/50\n",
      "13/13 [==============================] - 66s 5s/step - loss: 0.1772 - acc: 0.9351 - val_loss: 0.2670 - val_acc: 0.8731\n",
      "Epoch 19/50\n",
      "12/13 [==========================>...] - ETA: 3s - loss: 0.1589 - acc: 0.9557Epoch 1/50\n",
      "13/13 [==============================] - 66s 5s/step - loss: 0.1556 - acc: 0.9567 - val_loss: 0.2432 - val_acc: 0.9254\n",
      "Epoch 20/50\n",
      "12/13 [==========================>...] - ETA: 3s - loss: 0.1684 - acc: 0.9323Epoch 1/50\n",
      "13/13 [==============================] - 66s 5s/step - loss: 0.1709 - acc: 0.9303 - val_loss: 0.3976 - val_acc: 0.7761\n",
      "Epoch 21/50\n",
      "12/13 [==========================>...] - ETA: 3s - loss: 0.1424 - acc: 0.9505Epoch 1/50\n",
      "13/13 [==============================] - 68s 5s/step - loss: 0.1387 - acc: 0.9543 - val_loss: 0.2577 - val_acc: 0.9403\n",
      "Epoch 22/50\n",
      "12/13 [==========================>...] - ETA: 3s - loss: 0.1333 - acc: 0.9714Epoch 1/50\n",
      "13/13 [==============================] - 67s 5s/step - loss: 0.1304 - acc: 0.9712 - val_loss: 0.3075 - val_acc: 0.8582\n",
      "Epoch 23/50\n",
      "12/13 [==========================>...] - ETA: 3s - loss: 0.1206 - acc: 0.9792Epoch 1/50\n",
      "13/13 [==============================] - 65s 5s/step - loss: 0.1210 - acc: 0.9784 - val_loss: 0.2359 - val_acc: 0.9179\n",
      "Epoch 24/50\n",
      "12/13 [==========================>...] - ETA: 3s - loss: 0.1717 - acc: 0.9375Epoch 1/50\n",
      "13/13 [==============================] - 64s 5s/step - loss: 0.1654 - acc: 0.9423 - val_loss: 0.3297 - val_acc: 0.8582\n",
      "Epoch 25/50\n",
      "12/13 [==========================>...] - ETA: 3s - loss: 0.1405 - acc: 0.9479Epoch 1/50\n",
      "13/13 [==============================] - 65s 5s/step - loss: 0.1394 - acc: 0.9495 - val_loss: 0.2386 - val_acc: 0.8881\n",
      "Epoch 26/50\n",
      "12/13 [==========================>...] - ETA: 3s - loss: 0.1036 - acc: 0.9740Epoch 1/50\n",
      "13/13 [==============================] - 65s 5s/step - loss: 0.1073 - acc: 0.9736 - val_loss: 0.1999 - val_acc: 0.9328\n",
      "Epoch 27/50\n",
      "12/13 [==========================>...] - ETA: 3s - loss: 0.1071 - acc: 0.9714Epoch 1/50\n",
      "13/13 [==============================] - 65s 5s/step - loss: 0.1094 - acc: 0.9712 - val_loss: 0.2516 - val_acc: 0.8806\n",
      "Epoch 28/50\n",
      "12/13 [==========================>...] - ETA: 3s - loss: 0.1319 - acc: 0.9583Epoch 1/50\n",
      "13/13 [==============================] - 62s 5s/step - loss: 0.1288 - acc: 0.9615 - val_loss: 0.1956 - val_acc: 0.9403\n",
      "Epoch 29/50\n",
      "12/13 [==========================>...] - ETA: 3s - loss: 0.1104 - acc: 0.9714Epoch 1/50\n",
      "13/13 [==============================] - 63s 5s/step - loss: 0.1111 - acc: 0.9712 - val_loss: 0.2760 - val_acc: 0.8955\n",
      "Epoch 30/50\n",
      "12/13 [==========================>...] - ETA: 3s - loss: 0.0995 - acc: 0.9714Epoch 1/50\n",
      "13/13 [==============================] - 63s 5s/step - loss: 0.1023 - acc: 0.9712 - val_loss: 0.2863 - val_acc: 0.8657\n",
      "Epoch 31/50\n",
      "12/13 [==========================>...] - ETA: 3s - loss: 0.1413 - acc: 0.9453Epoch 1/50\n",
      "13/13 [==============================] - 63s 5s/step - loss: 0.1366 - acc: 0.9471 - val_loss: 0.2353 - val_acc: 0.9179\n",
      "Epoch 32/50\n",
      "12/13 [==========================>...] - ETA: 3s - loss: 0.1020 - acc: 0.9740Epoch 1/50\n",
      "13/13 [==============================] - 62s 5s/step - loss: 0.1058 - acc: 0.9712 - val_loss: 0.2592 - val_acc: 0.8955\n",
      "Epoch 33/50\n",
      "12/13 [==========================>...] - ETA: 3s - loss: 0.1063 - acc: 0.9714Epoch 1/50\n",
      "13/13 [==============================] - 62s 5s/step - loss: 0.1057 - acc: 0.9688 - val_loss: 0.2086 - val_acc: 0.9328\n",
      "Epoch 34/50\n",
      "12/13 [==========================>...] - ETA: 3s - loss: 0.1128 - acc: 0.9609Epoch 1/50\n",
      "13/13 [==============================] - 62s 5s/step - loss: 0.1100 - acc: 0.9615 - val_loss: 0.5364 - val_acc: 0.7910\n",
      "Epoch 35/50\n",
      "12/13 [==========================>...] - ETA: 3s - loss: 0.1279 - acc: 0.9635Epoch 1/50\n",
      "13/13 [==============================] - 62s 5s/step - loss: 0.1288 - acc: 0.9615 - val_loss: 0.1891 - val_acc: 0.9179\n",
      "Epoch 36/50\n",
      "12/13 [==========================>...] - ETA: 3s - loss: 0.1148 - acc: 0.9661Epoch 1/50\n",
      "13/13 [==============================] - 62s 5s/step - loss: 0.1179 - acc: 0.9639 - val_loss: 0.2136 - val_acc: 0.9179\n",
      "Epoch 37/50\n",
      "12/13 [==========================>...] - ETA: 4s - loss: 0.1017 - acc: 0.9714Epoch 1/50\n",
      "13/13 [==============================] - 77s 6s/step - loss: 0.1080 - acc: 0.9663 - val_loss: 0.3759 - val_acc: 0.8284\n",
      "Epoch 38/50\n",
      "12/13 [==========================>...] - ETA: 4s - loss: 0.1025 - acc: 0.9688 Epoch 1/50\n"
     ]
    },
    {
     "name": "stdout",
     "output_type": "stream",
     "text": [
      "13/13 [==============================] - 78s 6s/step - loss: 0.1018 - acc: 0.9688 - val_loss: 0.2718 - val_acc: 0.9328\n",
      "Epoch 39/50\n",
      "12/13 [==========================>...] - ETA: 3s - loss: 0.0867 - acc: 0.9688Epoch 1/50\n",
      "13/13 [==============================] - 61s 5s/step - loss: 0.0854 - acc: 0.9712 - val_loss: 0.2326 - val_acc: 0.8955\n",
      "Epoch 40/50\n",
      "12/13 [==========================>...] - ETA: 3s - loss: 0.0827 - acc: 0.9792Epoch 1/50\n",
      "13/13 [==============================] - 62s 5s/step - loss: 0.0852 - acc: 0.9760 - val_loss: 0.2701 - val_acc: 0.8507\n",
      "Epoch 41/50\n",
      "12/13 [==========================>...] - ETA: 3s - loss: 0.0965 - acc: 0.9714Epoch 1/50\n",
      "13/13 [==============================] - 66s 5s/step - loss: 0.0925 - acc: 0.9736 - val_loss: 0.4807 - val_acc: 0.7687\n",
      "Epoch 42/50\n",
      "12/13 [==========================>...] - ETA: 3s - loss: 0.0861 - acc: 0.9766Epoch 1/50\n",
      "13/13 [==============================] - 64s 5s/step - loss: 0.0890 - acc: 0.9760 - val_loss: 0.3658 - val_acc: 0.8507\n",
      "Epoch 43/50\n",
      "12/13 [==========================>...] - ETA: 3s - loss: 0.0919 - acc: 0.9766Epoch 1/50\n",
      "13/13 [==============================] - 64s 5s/step - loss: 0.0944 - acc: 0.9736 - val_loss: 0.1607 - val_acc: 0.9478\n",
      "Epoch 44/50\n",
      "12/13 [==========================>...] - ETA: 3s - loss: 0.0860 - acc: 0.9661Epoch 1/50\n",
      "13/13 [==============================] - 65s 5s/step - loss: 0.0933 - acc: 0.9639 - val_loss: 0.3698 - val_acc: 0.8507\n",
      "Epoch 45/50\n",
      "12/13 [==========================>...] - ETA: 3s - loss: 0.1047 - acc: 0.9688Epoch 1/50\n",
      "13/13 [==============================] - 65s 5s/step - loss: 0.1009 - acc: 0.9712 - val_loss: 0.1987 - val_acc: 0.9328\n",
      "Epoch 46/50\n",
      "12/13 [==========================>...] - ETA: 3s - loss: 0.1087 - acc: 0.9688Epoch 1/50\n",
      "13/13 [==============================] - 67s 5s/step - loss: 0.1042 - acc: 0.9712 - val_loss: 0.3801 - val_acc: 0.8284\n",
      "Epoch 47/50\n",
      "12/13 [==========================>...] - ETA: 3s - loss: 0.1212 - acc: 0.9609Epoch 1/50\n",
      "13/13 [==============================] - 65s 5s/step - loss: 0.1177 - acc: 0.9615 - val_loss: 0.2203 - val_acc: 0.8955\n",
      "Epoch 48/50\n",
      "12/13 [==========================>...] - ETA: 3s - loss: 0.0841 - acc: 0.9714Epoch 1/50\n",
      "13/13 [==============================] - 65s 5s/step - loss: 0.0853 - acc: 0.9712 - val_loss: 0.1594 - val_acc: 0.9403\n",
      "Epoch 49/50\n",
      "12/13 [==========================>...] - ETA: 3s - loss: 0.0762 - acc: 0.9818Epoch 1/50\n",
      "13/13 [==============================] - 65s 5s/step - loss: 0.0745 - acc: 0.9808 - val_loss: 0.2510 - val_acc: 0.8955\n",
      "Epoch 50/50\n",
      "12/13 [==========================>...] - ETA: 3s - loss: 0.0755 - acc: 0.9818Epoch 1/50\n",
      "13/13 [==============================] - 65s 5s/step - loss: 0.0717 - acc: 0.9832 - val_loss: 0.3336 - val_acc: 0.8657\n"
     ]
    }
   ],
   "source": [
    "# fit the model\n",
    "# Run the cell. It will take some time to execute\n",
    "r = model.fit_generator(\n",
    "  training_set,\n",
    "  validation_data=test_set,\n",
    "  epochs=50,\n",
    "  steps_per_epoch=len(training_set),\n",
    "  validation_steps=len(test_set)\n",
    ")"
   ]
  },
  {
   "cell_type": "code",
   "execution_count": 19,
   "metadata": {},
   "outputs": [
    {
     "data": {
      "image/png": "[encoded data removed]",
      "text/plain": [
       "<Figure size 432x288 with 1 Axes>"
      ]
     },
     "metadata": {
      "needs_background": "light"
     },
     "output_type": "display_data"
    },
    {
     "ename": "KeyError",
     "evalue": "'accuracy'",
     "output_type": "error",
     "traceback": [
      "\u001b[1;31m---------------------------------------------------------------------------\u001b[0m",
      "\u001b[1;31mKeyError\u001b[0m                                  Traceback (most recent call last)",
      "\u001b[1;32m<ipython-input-19-bb6bf5bcc936>\u001b[0m in \u001b[0;36m<module>\u001b[1;34m\u001b[0m\n\u001b[0;32m      7\u001b[0m \u001b[1;33m\u001b[0m\u001b[0m\n\u001b[0;32m      8\u001b[0m \u001b[1;31m# plot the accuracy\u001b[0m\u001b[1;33m\u001b[0m\u001b[1;33m\u001b[0m\u001b[1;33m\u001b[0m\u001b[0m\n\u001b[1;32m----> 9\u001b[1;33m \u001b[0mplt\u001b[0m\u001b[1;33m.\u001b[0m\u001b[0mplot\u001b[0m\u001b[1;33m(\u001b[0m\u001b[0mr\u001b[0m\u001b[1;33m.\u001b[0m\u001b[0mhistory\u001b[0m\u001b[1;33m[\u001b[0m\u001b[1;34m'accuracy'\u001b[0m\u001b[1;33m]\u001b[0m\u001b[1;33m,\u001b[0m \u001b[0mlabel\u001b[0m\u001b[1;33m=\u001b[0m\u001b[1;34m'train acc'\u001b[0m\u001b[1;33m)\u001b[0m\u001b[1;33m\u001b[0m\u001b[1;33m\u001b[0m\u001b[0m\n\u001b[0m\u001b[0;32m     10\u001b[0m \u001b[0mplt\u001b[0m\u001b[1;33m.\u001b[0m\u001b[0mplot\u001b[0m\u001b[1;33m(\u001b[0m\u001b[0mr\u001b[0m\u001b[1;33m.\u001b[0m\u001b[0mhistory\u001b[0m\u001b[1;33m[\u001b[0m\u001b[1;34m'val_accuracy'\u001b[0m\u001b[1;33m]\u001b[0m\u001b[1;33m,\u001b[0m \u001b[0mlabel\u001b[0m\u001b[1;33m=\u001b[0m\u001b[1;34m'val acc'\u001b[0m\u001b[1;33m)\u001b[0m\u001b[1;33m\u001b[0m\u001b[1;33m\u001b[0m\u001b[0m\n\u001b[0;32m     11\u001b[0m \u001b[0mplt\u001b[0m\u001b[1;33m.\u001b[0m\u001b[0mlegend\u001b[0m\u001b[1;33m(\u001b[0m\u001b[1;33m)\u001b[0m\u001b[1;33m\u001b[0m\u001b[1;33m\u001b[0m\u001b[0m\n",
      "\u001b[1;31mKeyError\u001b[0m: 'accuracy'"
     ]
    },
    {
     "data": {
      "text/plain": [
       "<Figure size 432x288 with 0 Axes>"
      ]
     },
     "metadata": {},
     "output_type": "display_data"
    }
   ],
   "source": [
    "# plot the loss\n",
    "plt.plot(r.history['loss'], label='train loss')\n",
    "plt.plot(r.history['val_loss'], label='val loss')\n",
    "plt.legend()\n",
    "plt.show()\n",
    "plt.savefig('LossVal_loss')\n",
    "\n",
    "# plot the accuracy\n",
    "plt.plot(r.history['accuracy'], label='train acc')\n",
    "plt.plot(r.history['val_accuracy'], label='val acc')\n",
    "plt.legend()\n",
    "plt.show()\n",
    "plt.savefig('AccVal_acc')"
   ]
  },
  {
   "cell_type": "code",
   "execution_count": 1,
   "metadata": {},
   "outputs": [
    {
     "ename": "NameError",
     "evalue": "name 'model' is not defined",
     "output_type": "error",
     "traceback": [
      "\u001b[1;31m---------------------------------------------------------------------------\u001b[0m",
      "\u001b[1;31mNameError\u001b[0m                                 Traceback (most recent call last)",
      "\u001b[1;32m<ipython-input-1-eefcaa8c1f71>\u001b[0m in \u001b[0;36m<module>\u001b[1;34m\u001b[0m\n\u001b[0;32m      2\u001b[0m \u001b[1;32mfrom\u001b[0m \u001b[0mtensorflow\u001b[0m\u001b[1;33m.\u001b[0m\u001b[0mkeras\u001b[0m\u001b[1;33m.\u001b[0m\u001b[0mmodels\u001b[0m \u001b[1;32mimport\u001b[0m \u001b[0mload_model\u001b[0m\u001b[1;33m\u001b[0m\u001b[1;33m\u001b[0m\u001b[0m\n\u001b[0;32m      3\u001b[0m \u001b[1;33m\u001b[0m\u001b[0m\n\u001b[1;32m----> 4\u001b[1;33m \u001b[0mmodel\u001b[0m\u001b[1;33m.\u001b[0m\u001b[0msave\u001b[0m\u001b[1;33m(\u001b[0m\u001b[1;34m'model_vgg19.h5'\u001b[0m\u001b[1;33m)\u001b[0m\u001b[1;33m\u001b[0m\u001b[1;33m\u001b[0m\u001b[0m\n\u001b[0m",
      "\u001b[1;31mNameError\u001b[0m: name 'model' is not defined"
     ]
    }
   ],
   "source": [
    "# save it as a h5 file\n",
    "from tensorflow.keras.models import load_model\n",
    "\n",
    "model.save('model_vgg19.h5')"
   ]
  },
  {
   "cell_type": "code",
   "execution_count": null,
   "metadata": {},
   "outputs": [],
   "source": []
  }
 ],
 "metadata": {
  "kernelspec": {
   "display_name": "Python 3",
   "language": "python",
   "name": "python3"
  },
  "language_info": {
   "codemirror_mode": {
    "name": "ipython",
    "version": 3
   },
   "file_extension": ".py",
   "mimetype": "text/x-python",
   "name": "python",
   "nbconvert_exporter": "python",
   "pygments_lexer": "ipython3",
   "version": "3.7.3"
  },
  "toc": {
   "base_numbering": 1,
   "nav_menu": {},
   "number_sections": true,
   "sideBar": true,
   "skip_h1_title": false,
   "title_cell": "Table of Contents",
   "title_sidebar": "Contents",
   "toc_cell": false,
   "toc_position": {},
   "toc_section_display": true,
   "toc_window_display": false
  }
 },
 "nbformat": 4,
 "nbformat_minor": 2
}
